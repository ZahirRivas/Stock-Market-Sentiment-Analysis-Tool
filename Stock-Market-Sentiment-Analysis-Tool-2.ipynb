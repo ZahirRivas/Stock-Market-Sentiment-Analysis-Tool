{
 "cells": [
  {
   "cell_type": "markdown",
   "id": "3e5ab1c8-ce11-451a-ba6d-0774a8e2c36a",
   "metadata": {},
   "source": [
    "<h1>\n",
    "<center>\n",
    "    <b>\n",
    "    📉 U.S. Stock Market Sentiment Analysis Tool 📈\n",
    "    </b>\n",
    "</center>\n",
    "</h1>"
   ]
  },
  {
   "cell_type": "markdown",
   "id": "aeaa1fea-5632-4f5e-959e-c1246bf0a85a",
   "metadata": {},
   "source": [
    "<center>\n",
    "The main purpose of this script will be to scrape through popular financial news sites using <b>BeautifulSoup4</b> and the <b>Finnhub API</b> (built on REST API) to make calls to multiple news sites efficiently, and parse through important information that will be stored and used for data processing at the end. We will be using the pre-trained NLP model, <b>BERT</b> to \"score\" news headlines based on language sentiment, <b>Pandas</b> and <b>Numpy</b> to organize data, and <b>Matplotlib</b>t to help visualize results.\n",
    "</center>"
   ]
  },
  {
   "cell_type": "code",
   "execution_count": 2,
   "id": "93051b69-e9b6-440e-9075-6f95d51e4c9c",
   "metadata": {},
   "outputs": [],
   "source": [
    "from transformers import AutoTokenizer, AutoModelForSequenceClassification\n",
    "from bs4 import BeautifulSoup\n",
    "import matplotlib.pyplot as plt\n",
    "import nltk\n",
    "from nltk.corpus import stopwords\n",
    "from nltk.stem import WordNetLemmatizer\n",
    "import datetime\n",
    "import requests\n",
    "import torch\n",
    "import pandas as pd\n",
    "import numpy as np\n",
    "import re\n",
    "import sys"
   ]
  },
  {
   "cell_type": "markdown",
   "id": "59cc084e-ce26-474e-8b74-7b22e8eca144",
   "metadata": {},
   "source": [
    "<center>\n",
    "\n",
    "I'll be using the the pre-trained <b>BERT model</b> for this script. It'll make the \"scoring system\" efficient and easy to implement:\n",
    "</center>"
   ]
  },
  {
   "cell_type": "code",
   "execution_count": 4,
   "id": "6ca285da-d841-4ca1-8fd4-15a51ba98b49",
   "metadata": {},
   "outputs": [],
   "source": [
    "tokenizer = AutoTokenizer.from_pretrained('nlptown/bert-base-multilingual-uncased-sentiment')\n",
    "model = AutoModelForSequenceClassification.from_pretrained('nlptown/bert-base-multilingual-uncased-sentiment')"
   ]
  },
  {
   "cell_type": "code",
   "execution_count": 34,
   "id": "55e16f72-44a7-4427-9f11-3d90aac35a8a",
   "metadata": {},
   "outputs": [
    {
     "name": "stdin",
     "output_type": "stream",
     "text": [
      "What US ticker would you like to analyze?  amd\n"
     ]
    }
   ],
   "source": [
    "ticker_input = input(\"What US ticker would you like to analyze? \")  \n",
    "ticker_cap = str(ticker_input.upper())\n",
    "\n",
    "\n",
    "# using the datetime library to fetch today's date and last month's day to plug it into the finnhub API url\n",
    "today = datetime.date.today()\n",
    "past_date = today - datetime.timedelta(days=30)\n",
    "from_date = past_date.strftime('%Y-%m-%d')\n",
    "to_date = today.strftime('%Y-%m-%d')\n",
    "\n",
    "\n",
    "finviz_url = f\"https://finviz.com/quote.ashx?t={ticker_cap}&p=d\"\n",
    "\n",
    "API_KEY = 'crmusn9r01qmi0u6b5agcrmusn9r01qmi0u6b5b0'\n",
    "finnhub_news_url = f'https://finnhub.io/api/v1/company-news?symbol={ticker_cap}&from={from_date}&to={to_date}&token={API_KEY}'\n",
    "finnhub_ticker_url = finnhub_url = f'https://finnhub.io/api/v1/stock/symbol?exchange=US&token={API_KEY}'\n"
   ]
  },
  {
   "cell_type": "markdown",
   "id": "cd0c32c0-6322-4a75-a911-2eb37f163b91",
   "metadata": {},
   "source": [
    "Calling the <b>Finnhub API</b> where most of the data will be extracted from:"
   ]
  },
  {
   "cell_type": "code",
   "execution_count": 36,
   "id": "2f7e7c14-41e4-4d56-8e1e-5005f76d85b1",
   "metadata": {},
   "outputs": [],
   "source": [
    "ticker_response = requests.get(finnhub_ticker_url)\n",
    "ticker_items = ticker_response.json()\n",
    "ticker_list = [item['symbol'] for item in ticker_items]\n",
    "\n",
    "if ticker_cap not in ticker_list:\n",
    "    raise Exception(f\"Error: '{ticker_input}' is not a valid U.S. ticker symbol.\")\n"
   ]
  },
  {
   "cell_type": "markdown",
   "id": "db778a05-76fb-4175-8c9c-e0bb15ea6189",
   "metadata": {},
   "source": [
    "Using <b>Requests</b> to GET the HTML file of an additional news source (Finviz), and parse through it using <b>BeautifulSoup4</b>:"
   ]
  },
  {
   "cell_type": "code",
   "execution_count": 38,
   "id": "4f0901db-1384-4d4d-a365-280f08432083",
   "metadata": {},
   "outputs": [],
   "source": [
    "request = requests.get(url = finviz_url, headers = {'user-agent': 'my-app'})\n",
    "soup = BeautifulSoup(request.text, 'html.parser')\n",
    "regex = re.compile('.*tab-link-news.*')\n",
    "results = soup.find_all('a', {'class':regex})\n",
    "finviz_parsed_data = [result.text for result in results]\n",
    "\n",
    "\n",
    "news_response = requests.get(finnhub_news_url)\n",
    "news_items = news_response.json()\n",
    "\n",
    "headlines_with_date = [ \n",
    "    {\n",
    "        'headline' : item['headline'],\n",
    "    }\n",
    "    for item in news_items\n",
    "]"
   ]
  },
  {
   "cell_type": "markdown",
   "id": "282f2c2a-1c67-40e8-9222-49d6fa43ac75",
   "metadata": {},
   "source": [
    "Using <b>Pandas</b> and <b>Numpy</b> to store and process data efficiently using the pre-trained model:"
   ]
  },
  {
   "cell_type": "code",
   "execution_count": 40,
   "id": "3c550a7f-67df-4eb3-9810-2911c8fd555f",
   "metadata": {},
   "outputs": [],
   "source": [
    "finnhub_news_data = []\n",
    "for news in headlines_with_date:\n",
    "    finnhub_news_data.append(news['headline'])\n",
    "\n",
    "\n",
    "dataframe_list = finviz_parsed_data + finnhub_news_data\n",
    "df = pd.DataFrame(np.array(dataframe_list), columns = ['Headlines'])"
   ]
  },
  {
   "cell_type": "markdown",
   "id": "4456ca05-3e6c-4cf2-86a6-2c6c1b67b625",
   "metadata": {},
   "source": [
    "Initially preprocessing the news headlines to make it easier for the model to interpret sentiment of <b>key words</b> (increases accuracy) by making all characters lowercase, tokenizing words individually, removing stopwords (except negation words/phrases), and lemmatizing:"
   ]
  },
  {
   "cell_type": "code",
   "execution_count": 45,
   "id": "1c5056bc-8473-4edf-9fa8-401742df24bb",
   "metadata": {},
   "outputs": [],
   "source": [
    "# this function will preprocess the headline to increase accuracy on the model\n",
    "lemmatizer = WordNetLemmatizer()\n",
    "stop_words = set(stopwords.words('english'))\n",
    "\n",
    "# makes sure negation words are not considered stop words (important for bias)\n",
    "negation_words = {\"not\", \"no\", \"never\", \"neither\", \"none\", \"no one\"}\n",
    "def preprocessed_headline(headline):\n",
    "    headline = headline.lower() # all lowercase characters\n",
    "    headline = re.sub(r'[^a-zA-Z0-9\\s]', '', headline) # removes special characters\n",
    "    words = headline.split() # 'tokenizing' the words\n",
    "    words = [word for word in words \n",
    "            if word not in stop_words or word in negation_words]\n",
    "    \n",
    "    words = [lemmatizer.lemmatize(word) for word in words]\n",
    "    clean_headline = ' '.join(words)\n",
    "\n",
    "    return clean_headline\n"
   ]
  },
  {
   "cell_type": "markdown",
   "id": "e9c6760e-5f8c-46c7-84da-48d75f9e8ab2",
   "metadata": {},
   "source": [
    "Running the <b>BERT</b> model on a headline. Implemented <b>split_text</b> to separate text into chunks for efficient processing and <b>mean_sentiment</b> to take an average of the sentiment of all text chunks combined:"
   ]
  },
  {
   "cell_type": "code",
   "execution_count": 48,
   "id": "27153ecb-d4d0-48c0-81a4-f72f49ae9bec",
   "metadata": {},
   "outputs": [],
   "source": [
    "# runs the sentiment_score on a single headline\n",
    "def sentiment_score(headline):\n",
    "    token = tokenizer.encode(headline, return_tensors='pt', truncation = True, padding = True, max_length = 512)\n",
    "\n",
    "    with torch.no_grad():\n",
    "        result = model(token)\n",
    "\n",
    "    probabilities = torch.nn.functional.softmax(result.logits, dim =-1)\n",
    "    probabilities_np = probabilities.numpy()[0]\n",
    "    sentiment_score = sum((i+1) * probabilities_np[i] for i in range(5))  # i+1 because scores are 1 to 5\n",
    "    # weight = abs(sentiment_score)\n",
    "\n",
    "    return sentiment_score\n",
    "\n",
    "# splits the input text into 512-token chunks\n",
    "def split_text(text, max_tokens = 512): \n",
    "    if len(text) == 0:\n",
    "        return []\n",
    "    return [text[i:i + max_tokens] for i in range(0, len(text), max_tokens)]\n",
    "\n",
    "# takes the mean of all chunks that had a sentiment score ran on them\n",
    "def mean_sentiment(text):\n",
    "    chunks = split_text(text)\n",
    "\n",
    "    if not chunks:\n",
    "        return None\n",
    "    \n",
    "    scores = [sentiment_score(chunk) for chunk in chunks]\n",
    "\n",
    "    return np.mean(scores)"
   ]
  },
  {
   "cell_type": "markdown",
   "id": "1b638245-6535-4af4-b7ec-4c9b355d7a93",
   "metadata": {},
   "source": [
    "Applying <b>preprocessed_headline</b> to each headline in the Pandas dataframe, then <b>sentiment_score</b> to each headline. To finally get the general sentiment of the specific ticker, the mean of all rows in 'Sentiment' is taken:"
   ]
  },
  {
   "cell_type": "code",
   "execution_count": 51,
   "id": "20f74c25-893f-4b29-9ca5-667fa6226d82",
   "metadata": {},
   "outputs": [],
   "source": [
    "df['Processed_Headlines'] = df['Headlines'].apply(preprocessed_headline)\n",
    "df['Sentiment'] = df['Processed_Headlines'].apply(lambda x: mean_sentiment(x))\n",
    "mean_of_scores = round(df['Sentiment'].mean(), 2)"
   ]
  },
  {
   "cell_type": "markdown",
   "id": "5bd3f8ed-3b1f-40a7-8120-2ef9aca4d38a",
   "metadata": {},
   "source": [
    "All headlines with their individual sentiment score is printed. Below the dataframe is the general mean of the ticker's sentiment:"
   ]
  },
  {
   "cell_type": "code",
   "execution_count": 53,
   "id": "84cfb5fa-c6ee-4f3e-be2b-cf8d8ed83572",
   "metadata": {},
   "outputs": [
    {
     "name": "stdout",
     "output_type": "stream",
     "text": [
      "                                            Headlines  Sentiment\n",
      "0   Is There Still Time to Buy These 2 Artificial ...   3.666788\n",
      "1   Nvidia Stock (NVDA) Is Still a Long-Term Winne...   4.517733\n",
      "2   Harbor Capital Appreciation Fund's Strategic M...   4.039115\n",
      "3   If You Bought 1 Share of Intel Stock at Its IP...   2.346793\n",
      "4   Wedbush Reaffirms Outperform Rating On Advance...   3.931691\n",
      "5   Best ETF to Buy: VanEck Semiconductor ETF vs. ...   4.848207\n",
      "6   How To Sell Stocks: Use This Signal To Lock In...   2.980181\n",
      "7   Intel Just Caught Up to AMD in This Critical M...   2.329619\n",
      "8   Better Artificial Intelligence (AI) Stock: Nvi...   3.252408\n",
      "9   1 Unstoppable Semiconductor ETF That Could Tur...   1.471399\n",
      "10  Is Advanced Micro Devices, Inc. (AMD) the Best...   4.834434\n",
      "\n",
      "Moderatly Bullish: 3.48\n"
     ]
    }
   ],
   "source": [
    "print(df.loc[0:10, ['Headlines', 'Sentiment']])\n",
    "\n",
    "print()\n",
    "\n",
    "if mean_of_scores >= 1 and mean_of_scores < 1.8 :\n",
    "    print(\"Extremely Bearish: \" + str(mean_of_scores))\n",
    "elif mean_of_scores >= 1.8 and mean_of_scores < 2.6:\n",
    "    print(\"Moderatly Bearish: \" + str(mean_of_scores))\n",
    "elif mean_of_scores >= 2.6 and mean_of_scores < 3.4:\n",
    "    print(\"Neutral: \" + str(mean_of_scores))\n",
    "elif mean_of_scores >= 3.4 and mean_of_scores < 4.2:\n",
    "    print(\"Moderatly Bullish: \" + str(mean_of_scores))\n",
    "elif mean_of_scores >= 4.2 and mean_of_scores <= 5:\n",
    "    print(\"Extremely Bullish: \" + str(mean_of_scores))"
   ]
  },
  {
   "cell_type": "markdown",
   "id": "5feed6d9-56b2-42e8-8c6a-7e9e550cd822",
   "metadata": {},
   "source": [
    "Plotting the sentiment distribution on a Histogram using <b>Matplotlib</b>:"
   ]
  },
  {
   "cell_type": "code",
   "execution_count": 55,
   "id": "68a44e44-430d-4091-8f80-00bc2224f227",
   "metadata": {},
   "outputs": [
    {
     "data": {
      "image/png": "[encoded data removed]",
      "text/plain": [
       "<Figure size 800x600 with 1 Axes>"
      ]
     },
     "metadata": {},
     "output_type": "display_data"
    }
   ],
   "source": [
    "# Plotting sentiment distribution\n",
    "bins = np.arange(1, 5.5, 0.5)\n",
    "\n",
    "plt.figure(figsize=(8, 6))\n",
    "plt.hist(df['Sentiment'], bins=bins, edgecolor='black', alpha=0.7)\n",
    "plt.title('Sentiment Distribution of Headlines', fontsize=14)\n",
    "plt.xlabel('Sentiment Score (1: Extremely Bearish - 5: Extremely Bullish)', fontsize=12)\n",
    "plt.ylabel('Number of Headlines', fontsize=12)\n",
    "plt.grid(True)\n",
    "plt.show()\n"
   ]
  },
  {
   "cell_type": "code",
   "execution_count": null,
   "id": "edef4075-18ec-4c4a-b9a1-04cd01e9969e",
   "metadata": {},
   "outputs": [],
   "source": []
  }
 ],
 "metadata": {
  "kernelspec": {
   "display_name": "Python 3 (ipykernel)",
   "language": "python",
   "name": "python3"
  },
  "language_info": {
   "codemirror_mode": {
    "name": "ipython",
    "version": 3
   },
   "file_extension": ".py",
   "mimetype": "text/x-python",
   "name": "python",
   "nbconvert_exporter": "python",
   "pygments_lexer": "ipython3",
   "version": "3.12.4"
  }
 },
 "nbformat": 4,
 "nbformat_minor": 5
}
